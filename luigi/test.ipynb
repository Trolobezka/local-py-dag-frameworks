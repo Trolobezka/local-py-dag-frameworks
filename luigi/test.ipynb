{
 "cells": [
  {
   "cell_type": "code",
   "execution_count": null,
   "id": "7360f063",
   "metadata": {},
   "outputs": [],
   "source": [
    "import pandas\n",
    "\n",
    "import luigi\n",
    "from tasks import CleanData, CleanDataMethod"
   ]
  },
  {
   "cell_type": "markdown",
   "id": "9cf09ed9",
   "metadata": {},
   "source": [
    "# Execute pipeline"
   ]
  },
  {
   "cell_type": "code",
   "execution_count": null,
   "id": "d549e9bf",
   "metadata": {},
   "outputs": [],
   "source": [
    "task = CleanData(method=CleanDataMethod.impute)\n",
    "result = luigi.build(\n",
    "    tasks=[task],\n",
    "    detailed_summary=True,\n",
    "    local_scheduler=False,  # or True\n",
    ")\n",
    "result"
   ]
  },
  {
   "cell_type": "markdown",
   "id": "38a38b51",
   "metadata": {},
   "source": [
    "# Retrieve existing outputs"
   ]
  },
  {
   "cell_type": "code",
   "execution_count": null,
   "id": "49a19c6c",
   "metadata": {},
   "outputs": [],
   "source": [
    "task = CleanData(method=CleanDataMethod.impute)\n",
    "task.output_path"
   ]
  },
  {
   "cell_type": "markdown",
   "id": "566ec39b",
   "metadata": {},
   "source": [
    "# Load and use the data"
   ]
  },
  {
   "cell_type": "code",
   "execution_count": null,
   "id": "89cdccdd",
   "metadata": {},
   "outputs": [],
   "source": [
    "data = pandas.read_parquet(task.output_path)\n",
    "data"
   ]
  },
  {
   "cell_type": "code",
   "execution_count": null,
   "id": "5be1ab71",
   "metadata": {},
   "outputs": [],
   "source": [
    "data.plot(x=1, y=0, kind=\"scatter\")"
   ]
  }
 ],
 "metadata": {
  "kernelspec": {
   "display_name": ".venv",
   "language": "python",
   "name": "python3"
  },
  "language_info": {
   "codemirror_mode": {
    "name": "ipython",
    "version": 3
   },
   "file_extension": ".py",
   "mimetype": "text/x-python",
   "name": "python",
   "nbconvert_exporter": "python",
   "pygments_lexer": "ipython3",
   "version": "3.11.2"
  }
 },
 "nbformat": 4,
 "nbformat_minor": 5
}
