{
 "cells": [
  {
   "cell_type": "code",
   "execution_count": null,
   "id": "9c8c53d4",
   "metadata": {},
   "outputs": [],
   "source": [
    "import pandas\n",
    "\n",
    "import dagster\n",
    "from assets import clean_data, definitions"
   ]
  },
  {
   "cell_type": "markdown",
   "id": "b2879292",
   "metadata": {},
   "source": [
    "# Materialize assets"
   ]
  },
  {
   "cell_type": "code",
   "execution_count": null,
   "id": "cb29b451",
   "metadata": {},
   "outputs": [],
   "source": [
    "result = dagster.materialize(\n",
    "    assets=definitions.assets,\n",
    "    selection=dagster.AssetSelection.assets(clean_data).upstream(include_self=True),\n",
    "    instance=dagster.DagsterInstance.get(),\n",
    "    partition_key=\"impute\",\n",
    ")"
   ]
  },
  {
   "cell_type": "code",
   "execution_count": null,
   "id": "3448a142",
   "metadata": {},
   "outputs": [],
   "source": [
    "data_path = result.asset_value(asset_key=clean_data.key)\n",
    "data_path"
   ]
  },
  {
   "cell_type": "markdown",
   "id": "58b95e51",
   "metadata": {},
   "source": [
    "# Get materialized asset's value"
   ]
  },
  {
   "cell_type": "code",
   "execution_count": null,
   "id": "4dac4096",
   "metadata": {},
   "outputs": [],
   "source": [
    "with definitions.get_asset_value_loader(instance=dagster.DagsterInstance.get()) as loader:\n",
    "    data_path = loader.load_asset_value(asset_key=clean_data.key, partition_key=\"impute\")\n",
    "data_path"
   ]
  },
  {
   "cell_type": "markdown",
   "id": "93963bef",
   "metadata": {},
   "source": [
    "# Load and use the data"
   ]
  },
  {
   "cell_type": "code",
   "execution_count": null,
   "id": "2dc1cc06",
   "metadata": {},
   "outputs": [],
   "source": [
    "data = pandas.read_parquet(data_path)\n",
    "data"
   ]
  },
  {
   "cell_type": "code",
   "execution_count": null,
   "id": "e9475f58",
   "metadata": {},
   "outputs": [],
   "source": [
    "data.plot(x=1, y=0, kind=\"scatter\")"
   ]
  }
 ],
 "metadata": {
  "kernelspec": {
   "display_name": ".venv",
   "language": "python",
   "name": "python3"
  },
  "language_info": {
   "codemirror_mode": {
    "name": "ipython",
    "version": 3
   },
   "file_extension": ".py",
   "mimetype": "text/x-python",
   "name": "python",
   "nbconvert_exporter": "python",
   "pygments_lexer": "ipython3",
   "version": "3.11.2"
  }
 },
 "nbformat": 4,
 "nbformat_minor": 5
}
