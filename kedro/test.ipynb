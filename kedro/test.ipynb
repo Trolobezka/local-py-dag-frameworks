{
 "cells": [
  {
   "cell_type": "markdown",
   "id": "2170f220",
   "metadata": {},
   "source": [
    "# Activate Kedro extension\n",
    "\n",
    "[Documentation for manually handling Kedro.](https://docs.kedro.org/en/stable/notebooks_and_ipython/notebook-example/add_kedro_to_a_notebook.html)\n",
    "\n",
    "[Documentation for using the Kedro extension.](https://docs.kedro.org/en/stable/notebooks_and_ipython/kedro_and_notebooks.html)"
   ]
  },
  {
   "cell_type": "code",
   "execution_count": null,
   "id": "7ac61fd0",
   "metadata": {},
   "outputs": [],
   "source": [
    "%load_ext kedro.ipython"
   ]
  },
  {
   "cell_type": "code",
   "execution_count": null,
   "id": "bfaadbfe",
   "metadata": {},
   "outputs": [],
   "source": [
    "catalog.list()"
   ]
  },
  {
   "cell_type": "code",
   "execution_count": null,
   "id": "f182fe57",
   "metadata": {},
   "outputs": [],
   "source": [
    "context.project_path"
   ]
  },
  {
   "cell_type": "code",
   "execution_count": null,
   "id": "90cd1b17",
   "metadata": {},
   "outputs": [],
   "source": [
    "pipelines"
   ]
  },
  {
   "cell_type": "markdown",
   "id": "c8884404",
   "metadata": {},
   "source": [
    "# Run default pipeline"
   ]
  },
  {
   "cell_type": "code",
   "execution_count": null,
   "id": "4ae920da",
   "metadata": {},
   "outputs": [],
   "source": [
    "session.run()"
   ]
  },
  {
   "cell_type": "markdown",
   "id": "2b6105d7",
   "metadata": {},
   "source": [
    "# Load and use the data"
   ]
  },
  {
   "cell_type": "code",
   "execution_count": null,
   "id": "838d8071",
   "metadata": {},
   "outputs": [],
   "source": [
    "data = catalog.load(\"clean_impute_data\")\n",
    "data"
   ]
  },
  {
   "cell_type": "code",
   "execution_count": null,
   "id": "2c1cbe22",
   "metadata": {},
   "outputs": [],
   "source": [
    "data.plot(x=1, y=0, kind=\"scatter\")"
   ]
  },
  {
   "cell_type": "code",
   "execution_count": null,
   "id": "a4bb2171",
   "metadata": {},
   "outputs": [],
   "source": [
    "catalog.load(\"linear_regression_impute_model\")"
   ]
  },
  {
   "cell_type": "markdown",
   "id": "cb792365",
   "metadata": {},
   "source": [
    "# Display interactive visualisation"
   ]
  },
  {
   "cell_type": "code",
   "execution_count": null,
   "id": "3453ee6e",
   "metadata": {},
   "outputs": [],
   "source": [
    "%run_viz"
   ]
  }
 ],
 "metadata": {
  "kernelspec": {
   "display_name": ".venv",
   "language": "python",
   "name": "python3"
  },
  "language_info": {
   "codemirror_mode": {
    "name": "ipython",
    "version": 3
   },
   "file_extension": ".py",
   "mimetype": "text/x-python",
   "name": "python",
   "nbconvert_exporter": "python",
   "pygments_lexer": "ipython3",
   "version": "3.11.2"
  }
 },
 "nbformat": 4,
 "nbformat_minor": 5
}
