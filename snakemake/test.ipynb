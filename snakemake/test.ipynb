{
 "cells": [
  {
   "cell_type": "code",
   "execution_count": null,
   "id": "7360f063",
   "metadata": {},
   "outputs": [],
   "source": [
    "import pathlib\n",
    "import subprocess\n",
    "\n",
    "import pandas"
   ]
  },
  {
   "cell_type": "markdown",
   "id": "9cf09ed9",
   "metadata": {},
   "source": [
    "# Request target"
   ]
  },
  {
   "cell_type": "code",
   "execution_count": null,
   "id": "d549e9bf",
   "metadata": {},
   "outputs": [],
   "source": [
    "!snakemake --core 4 data/processed/clean_impute.parquet"
   ]
  },
  {
   "cell_type": "code",
   "execution_count": null,
   "id": "f28a0c79",
   "metadata": {},
   "outputs": [],
   "source": [
    "target_path = pathlib.Path(\"data/processed/clean_impute.parquet\")\n",
    "cmd_args = [\"snakemake\", \"--core\", \"4\", target_path]"
   ]
  },
  {
   "cell_type": "code",
   "execution_count": null,
   "id": "ae06e2f4",
   "metadata": {},
   "outputs": [],
   "source": [
    "result = subprocess.run(cmd_args, encoding=\"utf8\", stderr=subprocess.PIPE)\n",
    "print(result.stderr)\n",
    "result.returncode"
   ]
  },
  {
   "cell_type": "code",
   "execution_count": null,
   "id": "b438e1e7",
   "metadata": {},
   "outputs": [],
   "source": [
    "process = subprocess.Popen(cmd_args, encoding=\"utf8\", stderr=subprocess.PIPE)\n",
    "assert process.stderr is not None\n",
    "for line in process.stderr:\n",
    "    print(line, end=\"\")"
   ]
  },
  {
   "cell_type": "markdown",
   "id": "566ec39b",
   "metadata": {},
   "source": [
    "# Load and use the data"
   ]
  },
  {
   "cell_type": "code",
   "execution_count": null,
   "id": "89cdccdd",
   "metadata": {},
   "outputs": [],
   "source": [
    "data = pandas.read_parquet(target_path)\n",
    "data"
   ]
  },
  {
   "cell_type": "code",
   "execution_count": null,
   "id": "5be1ab71",
   "metadata": {},
   "outputs": [],
   "source": [
    "data.plot(x=1, y=0, kind=\"scatter\")"
   ]
  }
 ],
 "metadata": {
  "kernelspec": {
   "display_name": ".venv",
   "language": "python",
   "name": "python3"
  },
  "language_info": {
   "codemirror_mode": {
    "name": "ipython",
    "version": 3
   },
   "file_extension": ".py",
   "mimetype": "text/x-python",
   "name": "python",
   "nbconvert_exporter": "python",
   "pygments_lexer": "ipython3",
   "version": "3.11.2"
  }
 },
 "nbformat": 4,
 "nbformat_minor": 5
}
