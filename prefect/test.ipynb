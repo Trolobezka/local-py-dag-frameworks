{
 "cells": [
  {
   "cell_type": "code",
   "execution_count": null,
   "id": "7360f063",
   "metadata": {},
   "outputs": [],
   "source": [
    "import pathlib\n",
    "\n",
    "import pandas\n",
    "\n",
    "from flow import RAW_DIR, CleanDataMethod, clean, workflow"
   ]
  },
  {
   "cell_type": "markdown",
   "id": "9cf09ed9",
   "metadata": {},
   "source": [
    "# Execute the flow\n",
    "\n",
    "Prefect server must be running in the background!"
   ]
  },
  {
   "cell_type": "code",
   "execution_count": null,
   "id": "d549e9bf",
   "metadata": {},
   "outputs": [],
   "source": [
    "excel_paths = list(RAW_DIR.glob(\"*.xlsx\"))\n",
    "methods = [CleanDataMethod.impute]\n",
    "result = workflow(excel_paths=excel_paths, methods=methods)\n",
    "result"
   ]
  },
  {
   "cell_type": "code",
   "execution_count": null,
   "id": "4b1e9651",
   "metadata": {},
   "outputs": [],
   "source": [
    "path: pathlib.Path = result[clean.name][0]  # type: ignore\n",
    "path"
   ]
  },
  {
   "cell_type": "markdown",
   "id": "566ec39b",
   "metadata": {},
   "source": [
    "# Load and use the data"
   ]
  },
  {
   "cell_type": "code",
   "execution_count": null,
   "id": "89cdccdd",
   "metadata": {},
   "outputs": [],
   "source": [
    "data = pandas.read_parquet(path)\n",
    "data"
   ]
  },
  {
   "cell_type": "code",
   "execution_count": null,
   "id": "5be1ab71",
   "metadata": {},
   "outputs": [],
   "source": [
    "data.plot(x=1, y=0, kind=\"scatter\")"
   ]
  }
 ],
 "metadata": {
  "kernelspec": {
   "display_name": ".venv",
   "language": "python",
   "name": "python3"
  },
  "language_info": {
   "codemirror_mode": {
    "name": "ipython",
    "version": 3
   },
   "file_extension": ".py",
   "mimetype": "text/x-python",
   "name": "python",
   "nbconvert_exporter": "python",
   "pygments_lexer": "ipython3",
   "version": "3.11.2"
  }
 },
 "nbformat": 4,
 "nbformat_minor": 5
}
